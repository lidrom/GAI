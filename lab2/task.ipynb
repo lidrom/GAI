{
 "cells": [
  {
   "cell_type": "markdown",
   "metadata": {},
   "source": [
    "1. Завантаження та підготовка даних"
   ]
  },
  {
   "cell_type": "code",
   "execution_count": 89,
   "metadata": {},
   "outputs": [
    {
     "data": {
      "image/png": "[encoded data removed]",
      "text/plain": [
       "<Figure size 1000x200 with 5 Axes>"
      ]
     },
     "metadata": {},
     "output_type": "display_data"
    }
   ],
   "source": [
    "import torch\n",
    "from torchvision import datasets\n",
    "import torchvision.transforms as transforms\n",
    "import matplotlib.pyplot as plt\n",
    "\n",
    "\n",
    "transform = transforms.Compose([transforms.ToTensor()])\n",
    "train_dataset = datasets.MNIST(root='./data', train=True, download=True, transform=transform)\n",
    "train_loader = torch.utils.data.DataLoader(train_dataset, batch_size=32, shuffle=True)\n",
    "\n",
    "examples = iter(train_loader)\n",
    "images, _ = next(examples)\n",
    "fig, axes = plt.subplots(1, 5, figsize=(10, 2))\n",
    "\n",
    "for i in range(5):\n",
    "    axes[i].imshow(images[i].squeeze(), cmap='gray')\n",
    "    axes[i].axis('off')\n",
    "\n",
    "plt.show()\n"
   ]
  },
  {
   "cell_type": "markdown",
   "metadata": {},
   "source": [
    "2. Реалізація автоенкодера\n",
    "Енкодер складається з 2 шарів: перетворення початкового 28х28 зображення у вектор розміром 128 та шару зменшення вектора зі 128 до 32. В обох випадках використовується функція октивації ReLU\n",
    "Декодер теж складається з 2 шарів: перетворення вектора 32 у вектор 128 та шару відновлення вектора 128 у початкове зображення 28х28. В першому шарі використовується функція ReLU, а в другому сигмоїдна функція"
   ]
  },
  {
   "cell_type": "code",
   "execution_count": 5,
   "metadata": {},
   "outputs": [],
   "source": [
    "import torch.nn as nn\n",
    "\n",
    "\n",
    "class Autoencoder(nn.Module):\n",
    "    def __init__(self):\n",
    "        super(Autoencoder, self).__init__()\n",
    "        self.encoder = nn.Sequential(\n",
    "            nn.Linear(28 * 28, 128), nn.ReLU(),\n",
    "            nn.Linear(128, 32), nn.ReLU()\n",
    "        )\n",
    "        self.decoder = nn.Sequential(\n",
    "            nn.Linear(32, 128), nn.ReLU(),\n",
    "            nn.Linear(128, 28*28), nn.Sigmoid()\n",
    "        )\n",
    "\n",
    "    def forward(self, x):\n",
    "        x = self.encoder(x)\n",
    "        x = self.decoder(x)\n",
    "        \n",
    "        return x\n"
   ]
  },
  {
   "cell_type": "markdown",
   "metadata": {},
   "source": [
    "3. Навчання автоенкодера\n",
    "Для навчання буде використано оптимізатор Адама та функцію втрат MSELoss(Mean Squared Error), буде проводено 10 епох навчання"
   ]
  },
  {
   "cell_type": "code",
   "execution_count": 6,
   "metadata": {},
   "outputs": [],
   "source": [
    "import torch.optim as optim\n",
    "\n",
    "\n",
    "model = Autoencoder()\n",
    "criterion = nn.MSELoss()\n",
    "optimizer = optim.Adam(model.parameters(), lr=0.001)\n",
    "\n",
    "for epoch in range(10):\n",
    "    for images, _ in train_loader:\n",
    "        images = images.view(-1, 28*28)\n",
    "        outputs = model(images)\n",
    "        loss = criterion(outputs, images)\n",
    "\n",
    "        optimizer.zero_grad()\n",
    "        loss.backward()\n",
    "        optimizer.step()\n"
   ]
  },
  {
   "cell_type": "markdown",
   "metadata": {},
   "source": [
    "4. Тестування автоенкодера\n",
    "Для тестування автоенкодера нам потрібно отримати нову порцію даних, прогнати її через наш автоенкодер та порівняти отримані дані з початковими"
   ]
  },
  {
   "cell_type": "code",
   "execution_count": 90,
   "metadata": {},
   "outputs": [
    {
     "data": {
      "image/png": "[encoded data removed]",
      "text/plain": [
       "<Figure size 1000x400 with 10 Axes>"
      ]
     },
     "metadata": {},
     "output_type": "display_data"
    }
   ],
   "source": [
    "# Підготовка даних\n",
    "images_flat = images.view(-1, 28*28)\n",
    "\n",
    "# Проганяємо дані через модель\n",
    "model.eval() \n",
    "with torch.no_grad():\n",
    "    outputs = model(images_flat)\n",
    "\n",
    "# Перетворюємо назад у форму зображень\n",
    "outputs = outputs.view(-1, 1, 28, 28)\n",
    "\n",
    "fig, axes = plt.subplots(2, 5, figsize=(10, 4))\n",
    "for i in range(5):\n",
    "    # Оригінальне зображення\n",
    "    axes[0, i].imshow(images[i].squeeze(), cmap=\"gray\")\n",
    "    axes[0, i].axis('off')\n",
    "\n",
    "    # Відновлене зображення\n",
    "    axes[1, i].imshow(outputs[i].squeeze(), cmap=\"gray\")\n",
    "    axes[1, i].axis('off')\n",
    "\n",
    "axes[0, 0].set_title(\"Оригінал\")\n",
    "axes[1, 0].set_title(\"Відновлення\")\n",
    "\n",
    "plt.show()\n"
   ]
  },
  {
   "cell_type": "markdown",
   "metadata": {},
   "source": [
    "5. Реалізація варіаційного автоенкодера (VAE)\n",
    "Енкодер складається з 2 шарів: перетворення початкового 28х28 зображення у вектор розміром 128 та шару зменшення вектора зі 128 до 32. В обох випадках використовується функція октивації ReLU\n",
    "Декодер складається з 3 шарів: перетворення вектора 16 у вектор 32, перетворення вектора 32 у 128 та шару відновлення вектора 128 у початкове зображення 28х28. В перших двох шарах використовується функція ReLU, а в третьому сигмоїдна функція\n",
    "Окрім цього в цьому автоенкодері пристуній механізм для навчання розподілу латентного простору, зокрема, середнього значення mu та логарифму дисперсії logvar для кожного латентного вектору"
   ]
  },
  {
   "cell_type": "code",
   "execution_count": 17,
   "metadata": {},
   "outputs": [],
   "source": [
    "class VAE(nn.Module):\n",
    "    def __init__(self):\n",
    "        super(VAE, self).__init__()\n",
    "        self.encoder = nn.Sequential(\n",
    "            nn.Linear(28*28, 128), nn.ReLU(),\n",
    "            nn.Linear(128, 32), nn.ReLU()\n",
    "        )\n",
    "        self.fc_mu = nn.Linear(32, 16)\n",
    "        self.fc_logvar = nn.Linear(32, 16)\n",
    "        self.decoder = nn.Sequential(\n",
    "            nn.Linear(16, 32), nn.ReLU(),\n",
    "            nn.Linear(32, 128), nn.ReLU(),\n",
    "            nn.Linear(128, 28*28), nn.Sigmoid()\n",
    "        )\n",
    "\n",
    "    def encode(self, x):\n",
    "        h = self.encoder(x)\n",
    "        mu = self.fc_mu(h)\n",
    "        logvar = self.fc_logvar(h)\n",
    "        \n",
    "        return mu, logvar\n",
    "\n",
    "    def reparameterize(self, mu, logvar):\n",
    "        std = torch.exp(0.5 * logvar)\n",
    "        eps = torch.randn_like(std)\n",
    "        \n",
    "        return mu + eps * std\n",
    "\n",
    "    def forward(self, x):\n",
    "        mu, logvar = self.encode(x)\n",
    "        z = self.reparameterize(mu, logvar)\n",
    "        \n",
    "        return self.decoder(z), mu, logvar\n"
   ]
  },
  {
   "cell_type": "markdown",
   "metadata": {},
   "source": [
    "6. Реалізація варіаційного автоенкодера (VAE)\n",
    "Для навчання буде використано оптимізатор Адама та кастомна функція втрат, буде проводено 10 епох навчання"
   ]
  },
  {
   "cell_type": "code",
   "execution_count": 76,
   "metadata": {},
   "outputs": [],
   "source": [
    "import torch.optim as optim\n",
    "\n",
    "\n",
    "def loss_function(recon_x, x, mu, logvar):\n",
    "    # Втрата реконструкції (MSE Loss)\n",
    "    BCE = nn.functional.binary_cross_entropy(recon_x, x, reduction='sum')\n",
    "    \n",
    "    # Втрата KL-дивергенції\n",
    "    # KL-дивергенція між нормальним розподілом N(0, I) і латентним розподілом\n",
    "    # Формула: -0.5 * sum(1 + log(sigma^2) - mu^2 - sigma^2)\n",
    "    # де sigma = exp(0.5 * logvar)\n",
    "    # Це забезпечує, щоб згенеровані латентні змінні не відхилялися сильно від стандартного нормального розподілу.\n",
    "    # За допомогою `mu` та `logvar` можна обчислити KL-дивергенцію.\n",
    "    # Для цього використовуємо функцію, що працює зі стандартним нормальним розподілом.\n",
    "    \n",
    "    # Обчислюємо KL-втрату:\n",
    "    # Крок 1: обчислюємо sigma (стандартне відхилення)\n",
    "    std = torch.exp(0.5 * logvar)\n",
    "    \n",
    "    # Крок 2: обчислюємо KL-дивергенцію\n",
    "    kl_loss = -0.5 * torch.sum(1 + logvar - mu.pow(2) - std.pow(2), dim=1)\n",
    "    \n",
    "    # Повертаємо загальну втрату:\n",
    "    return BCE + kl_loss.mean()\n",
    "\n",
    "v_model = VAE()\n",
    "criterion = nn.MSELoss()\n",
    "optimizer = optim.Adam(v_model.parameters(), lr=0.001)\n",
    "\n",
    "for epoch in range(10):\n",
    "    for images, _ in train_loader:\n",
    "        images = images.view(-1, 28*28)\n",
    "        recon_batch, mu, logvar = v_model(images)\n",
    "        \n",
    "        # Обчислюємо втрати\n",
    "        loss = loss_function(recon_batch, images, mu, logvar)\n",
    "\n",
    "        optimizer.zero_grad()\n",
    "        loss.backward()\n",
    "        optimizer.step()"
   ]
  },
  {
   "cell_type": "markdown",
   "metadata": {},
   "source": [
    "7. Тестування автоенкодера\n",
    "Для тестування автоенкодера нам потрібно отримати нову порцію даних, прогнати її через наш автоенкодер та порівняти отримані дані з початковими"
   ]
  },
  {
   "cell_type": "code",
   "execution_count": 91,
   "metadata": {},
   "outputs": [
    {
     "data": {
      "image/png": "[encoded data removed]",
      "text/plain": [
       "<Figure size 1000x400 with 10 Axes>"
      ]
     },
     "metadata": {},
     "output_type": "display_data"
    }
   ],
   "source": [
    "# Підготовка даних\n",
    "images_flat = images.view(-1, 28*28)\n",
    "\n",
    "# Проганяємо дані через модель\n",
    "model.eval() \n",
    "with torch.no_grad():\n",
    "    outputs, _, _ = v_model(images_flat)\n",
    "\n",
    "# Перетворюємо назад у форму зображень\n",
    "outputs = outputs.view(-1, 1, 28, 28)\n",
    "\n",
    "fig, axes = plt.subplots(2, 5, figsize=(10, 4))\n",
    "for i in range(5):\n",
    "    # Оригінальне зображення\n",
    "    axes[0, i].imshow(images[i].squeeze(), cmap=\"gray\")\n",
    "    axes[0, i].axis('off')\n",
    "\n",
    "    # Відновлене зображення\n",
    "    axes[1, i].imshow(outputs[i].squeeze(), cmap=\"gray\")\n",
    "    axes[1, i].axis('off')\n",
    "\n",
    "axes[0, 0].set_title(\"Оригінал\")\n",
    "axes[1, 0].set_title(\"Відновлення\")\n",
    "\n",
    "plt.show()"
   ]
  },
  {
   "cell_type": "markdown",
   "metadata": {},
   "source": [
    "Контрольні питання\n",
    "1. У чому відмінність класичного автоенкодера від варіаційного (VAE)?\n",
    "\n",
    "Класичний автоенкодер стискає дані в латентне представлення без урахування ймовірнісної природи — він кодує вхід у фіксовану точку латентного простору. Натомість VAE використовує ймовірнісний підхід: енкодер виводить параметри розподілу (зазвичай середнє та дисперсію), з якого потім семплюється латентна змінна. Це дозволяє VAE генерувати нові дані, що робить його більш придатним для генеративних завдань.\n",
    "\n",
    "2. Як вибір латентного простору впливає на якість реконструкції?\n",
    "\n",
    "Розмір та структура латентного простору прямо впливають на здатність моделі кодувати суттєві особливості вхідних даних. Занадто малий простір може не вміщати достатньо інформації, що веде до втрати деталей і поганої реконструкції. Навпаки, надто великий або занадто гнучкий простір може призвести до перенавчання — модель почне запам’ятовувати вхідні приклади замість узагальнення, що теж знижує якість результатів.\n",
    "\n",
    "3. Чому в VAE використовується KL-дивергенція?\n",
    "\n",
    "KL-дивергенція в VAE — це регуляризатор, що змушує латентні розподіли бути близькими до заданого апостеріорного (зазвичай стандартного нормального) розподілу. Це підтримує впорядкованість та неперервність латентного простору, завдяки чому модель може адекватно генерувати нові зразки навіть з незнайомих точок простору. Вона також запобігає тому, щоб модель просто запам’ятовувала приклади, сприяючи узагальненню.\n",
    "\n",
    "4. Де в реальному житті застосовуються автоенкодери?\n",
    "\n",
    "Автоенкодери знаходять застосування в багатьох галузях:\n",
    "\n",
    "    У комп’ютерному зорі — для стиснення зображень, усунення шуму (denoising), покращення якості.\n",
    "\n",
    "    У системах рекомендацій — для зниження розмірності та виявлення схожих користувачів або продуктів.\n",
    "\n",
    "    У виявленні аномалій — коли модель навчається на \"нормальних\" даних, вона може сигналізувати про відхилення у разі незвичних входів (наприклад, у фінансовому моніторингу чи кібербезпеці).\n",
    "\n",
    "5. Як можна покращити якість генерації у VAE?\n",
    "\n",
    "Якість генерації можна покращити кількома способами:\n",
    "\n",
    "    Збільшення розміру латентного простору, щоб модель мала більше можливостей кодувати важливу інформацію.\n",
    "\n",
    "    Ускладнення архітектури мережі — додавання шарів або використання більш потужних блоків (наприклад, CNN, ResNet) дозволяє краще моделювати складну структуру вхідних даних.\n",
    "\n",
    "    Використання покращених варіантів VAE, таких як β-VAE або VQ-VAE, які краще контролюють компроміс між реконструкцією і генерацією.\n",
    "\n",
    "    Тюнінг гіперпараметрів, включаючи вагу KL-дивергенції, тип активаційних функцій і вибір оптимізатора."
   ]
  }
 ],
 "metadata": {
  "kernelspec": {
   "display_name": "Python 3",
   "language": "python",
   "name": "python3"
  },
  "language_info": {
   "codemirror_mode": {
    "name": "ipython",
    "version": 3
   },
   "file_extension": ".py",
   "mimetype": "text/x-python",
   "name": "python",
   "nbconvert_exporter": "python",
   "pygments_lexer": "ipython3",
   "version": "3.11.9"
  }
 },
 "nbformat": 4,
 "nbformat_minor": 2
}
