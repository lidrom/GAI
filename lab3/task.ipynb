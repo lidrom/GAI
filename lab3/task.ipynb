{
 "cells": [
  {
   "cell_type": "markdown",
   "metadata": {},
   "source": [
    "1. Підготовка даних"
   ]
  },
  {
   "cell_type": "code",
   "execution_count": null,
   "metadata": {},
   "outputs": [
    {
     "name": "stderr",
     "output_type": "stream",
     "text": [
      "100%|██████████| 9.91M/9.91M [00:02<00:00, 3.59MB/s]\n",
      "100%|██████████| 28.9k/28.9k [00:00<00:00, 255kB/s]\n",
      "100%|██████████| 1.65M/1.65M [00:00<00:00, 2.37MB/s]\n",
      "100%|██████████| 4.54k/4.54k [00:00<00:00, 4.47MB/s]\n"
     ]
    }
   ],
   "source": [
    "import torchvision.transforms as transforms\n",
    "from torchvision import datasets\n",
    "from torch.utils.data import DataLoader\n",
    "\n",
    "\n",
    "transform = transforms.Compose([transforms.ToTensor(), transforms.Normalize([0.5], [0.5])])\n",
    "train_dataset = datasets.MNIST(root='./data', train=True, download=True, transform=transform)\n",
    "train_loader = DataLoader(train_dataset, batch_size=64, shuffle=True)"
   ]
  },
  {
   "cell_type": "markdown",
   "metadata": {},
   "source": [
    "2. Створення генератора і дискримінатора"
   ]
  },
  {
   "cell_type": "code",
   "execution_count": 2,
   "metadata": {},
   "outputs": [],
   "source": [
    "import torch.nn as nn\n",
    "\n",
    "class Generator(nn.Module):\n",
    "    def __init__(self):\n",
    "        super().__init__()\n",
    "        self.model = nn.Sequential(\n",
    "            nn.Linear(100, 256), nn.ReLU(),\n",
    "            nn.Linear(256, 512), nn.ReLU(),\n",
    "            nn.Linear(512, 1024), nn.ReLU(),\n",
    "            nn.Linear(1024, 28*28), nn.Tanh()\n",
    "        )\n",
    "\n",
    "    def forward(self, z):\n",
    "        return self.model(z)\n",
    "\n",
    "class Discriminator(nn.Module):\n",
    "    def __init__(self):\n",
    "        super().__init__()\n",
    "        self.model = nn.Sequential(\n",
    "            nn.Linear(28*28, 512), nn.LeakyReLU(0.2),\n",
    "            nn.Linear(512, 256), nn.LeakyReLU(0.2),\n",
    "            nn.Linear(256, 1), nn.Sigmoid()\n",
    "        )\n",
    "\n",
    "    def forward(self, x):\n",
    "        return self.model(x)"
   ]
  },
  {
   "cell_type": "markdown",
   "metadata": {},
   "source": [
    "3. Ініціалізація моделей та функцій втрат"
   ]
  },
  {
   "cell_type": "code",
   "execution_count": 5,
   "metadata": {},
   "outputs": [],
   "source": [
    "import torch.optim as optim\n",
    "\n",
    "\n",
    "G = Generator()\n",
    "D = Discriminator()\n",
    "loss_fn = nn.BCELoss()\n",
    "g_optimizer = optim.Adam(G.parameters(), lr=0.0002)\n",
    "d_optimizer = optim.Adam(D.parameters(), lr=0.0002)"
   ]
  },
  {
   "cell_type": "markdown",
   "metadata": {},
   "source": [
    "4. Навчання GAN"
   ]
  },
  {
   "cell_type": "code",
   "execution_count": 10,
   "metadata": {},
   "outputs": [
    {
     "name": "stdout",
     "output_type": "stream",
     "text": [
      "Epoch 1, D loss: 0.9015, G loss: 1.7124\n",
      "Epoch 2, D loss: 0.7010, G loss: 2.2510\n",
      "Epoch 3, D loss: 0.5427, G loss: 2.5838\n",
      "Epoch 4, D loss: 0.5156, G loss: 2.2302\n",
      "Epoch 5, D loss: 0.9464, G loss: 3.0659\n",
      "Epoch 6, D loss: 0.9658, G loss: 2.5642\n",
      "Epoch 7, D loss: 0.9123, G loss: 2.3110\n",
      "Epoch 8, D loss: 0.5438, G loss: 2.9386\n",
      "Epoch 9, D loss: 0.6515, G loss: 1.5238\n",
      "Epoch 10, D loss: 1.3988, G loss: 1.3406\n",
      "Epoch 11, D loss: 0.9785, G loss: 1.8189\n",
      "Epoch 12, D loss: 0.5665, G loss: 2.2452\n",
      "Epoch 13, D loss: 1.0431, G loss: 2.5652\n",
      "Epoch 14, D loss: 0.7032, G loss: 2.0557\n",
      "Epoch 15, D loss: 0.8831, G loss: 1.5411\n",
      "Epoch 16, D loss: 0.8655, G loss: 1.5239\n",
      "Epoch 17, D loss: 0.7527, G loss: 2.5265\n",
      "Epoch 18, D loss: 1.0347, G loss: 1.5314\n",
      "Epoch 19, D loss: 0.9480, G loss: 1.7555\n",
      "Epoch 20, D loss: 1.3479, G loss: 1.3798\n",
      "Epoch 21, D loss: 1.2567, G loss: 1.5804\n",
      "Epoch 22, D loss: 0.9740, G loss: 1.3645\n",
      "Epoch 23, D loss: 0.7346, G loss: 1.8424\n",
      "Epoch 24, D loss: 0.8172, G loss: 1.9670\n",
      "Epoch 25, D loss: 1.0854, G loss: 1.4513\n",
      "Epoch 26, D loss: 0.8817, G loss: 1.3494\n",
      "Epoch 27, D loss: 1.2042, G loss: 1.7802\n",
      "Epoch 28, D loss: 1.0045, G loss: 1.5275\n",
      "Epoch 29, D loss: 1.0699, G loss: 1.1985\n",
      "Epoch 30, D loss: 1.1468, G loss: 2.0911\n"
     ]
    }
   ],
   "source": [
    "import torch\n",
    "\n",
    "\n",
    "for epoch in range(30):\n",
    "    for real_imgs, _ in train_loader:\n",
    "        real_imgs = real_imgs.view(-1, 28*28)\n",
    "        batch_size = real_imgs.size(0)\n",
    "        real_labels = torch.ones(batch_size, 1)\n",
    "        fake_labels = torch.zeros(batch_size, 1)\n",
    "\n",
    "        # Тренування дискримінатора\n",
    "        z = torch.randn(batch_size, 100)\n",
    "        fake_imgs = G(z)\n",
    "        d_loss_real = loss_fn(D(real_imgs), real_labels)\n",
    "        d_loss_fake = loss_fn(D(fake_imgs.detach()), fake_labels)\n",
    "        d_loss = d_loss_real + d_loss_fake\n",
    "        d_optimizer.zero_grad()\n",
    "        d_loss.backward()\n",
    "        d_optimizer.step()\n",
    "\n",
    "        # Тренування генератора\n",
    "        g_loss = loss_fn(D(fake_imgs), real_labels)\n",
    "        g_optimizer.zero_grad()\n",
    "        g_loss.backward()\n",
    "        g_optimizer.step()\n",
    "\n",
    "    print(f\"Epoch {epoch+1}, D loss: {d_loss.item():.4f}, G loss: {g_loss.item():.4f}\")"
   ]
  },
  {
   "cell_type": "markdown",
   "metadata": {},
   "source": [
    "5. Візуалізація результатів генерації"
   ]
  },
  {
   "cell_type": "code",
   "execution_count": 11,
   "metadata": {},
   "outputs": [
    {
     "data": {
      "image/png": "[encoded data removed]",
      "text/plain": [
       "<Figure size 600x600 with 16 Axes>"
      ]
     },
     "metadata": {},
     "output_type": "display_data"
    }
   ],
   "source": [
    "import matplotlib.pyplot as plt\n",
    "\n",
    "\n",
    "z = torch.randn(16, 100)\n",
    "samples = G(z).view(-1, 28, 28).detach()\n",
    "fig, axes = plt.subplots(4, 4, figsize=(6, 6))\n",
    "\n",
    "for i, ax in enumerate(axes.flatten()):\n",
    "    ax.imshow(samples[i], cmap='gray')\n",
    "    ax.axis('off')\n",
    "\n",
    "plt.show()"
   ]
  },
  {
   "cell_type": "markdown",
   "metadata": {},
   "source": [
    "Контрольні питання\n",
    "1. Що таке GAN і з чого вона складається?\n",
    "\n",
    "Generative Adversarial Network (GAN) — це тип генеративної нейромережі, що складається з двох компонентів: генератора (Generator) і дискримінатора (Discriminator). Генератор навчається створювати нові зразки, подібні до реальних даних, використовуючи випадковий вхід (шум). Дискримінатор, своєю чергою, намагається відрізнити справжні дані від згенерованих. Під час навчання обидві моделі вдосконалюються: генератор намагається \"обдурити\" дискримінатор, а дискримінатор навчається краще виявляти фейки. Успішно натреновані GAN можуть створювати реалістичні зображення, відео, синтез мовлення та застосовуються навіть у біоінформатиці чи дизайні нових матеріалів.\n",
    "\n",
    "2. У чому полягає змагання між G і D?\n",
    "\n",
    "Змагання в GAN — це гра з нульовою сумою між двома моделями. Генератор (G) намагається створити фейкові зразки, які дискримінатор (D) не зможе відрізнити від справжніх. D отримує як вхід і справжні, і згенеровані зразки, та вчиться класифікувати їх правильно. G, своєю чергою, отримує сигнал зворотного зв’язку від D і намагається поліпшити свої зразки, аби обдурити D. Ідеальне навчання досягається, коли дискримінатор уже не може з впевненістю відрізнити справжні та фейкові дані (тобто ймовірність відрізнити — 50%).\n",
    "\n",
    "3. Яку роль відіграє функція втрат у GAN?\n",
    "\n",
    "Функція втрат визначає, як добре кожна з моделей виконує своє завдання:\n",
    "\n",
    "    Дискримінатор мінімізує свою втрату, правильно класифікуючи реальні та фейкові зразки.\n",
    "\n",
    "    Генератор намагається максимізувати втрату дискримінатора, тобто створює зразки, які той помилково вважає справжніми.\n",
    "    Класична функція втрат ґрунтується на крос-ентропії, але для більш стабільного навчання застосовують й альтернативи, наприклад, у Wasserstein GAN використовується відстань Васерштейна (Earth Mover’s Distance), що забезпечує кращу збіжність.\n",
    "\n",
    "4. Як уникнути mode collapse?\n",
    "\n",
    "Mode collapse — це проблема, коли генератор починає створювати однакові або дуже схожі зразки, втрачаючи різноманітність. Щоб запобігти цьому, застосовують:\n",
    "\n",
    "    Мінібатч-дискримінацію — оцінювання схожості між зразками всередині батчу.\n",
    "\n",
    "    Feature matching — замість обману D, генератор намагається відтворити статистики ознак, які D обчислює.\n",
    "\n",
    "    Wasserstein GAN (WGAN) — використовує іншу функцію втрат, що сприяє стабільному навчанню.\n",
    "\n",
    "    Unrolled GAN — частково розгортає кроки навчання D, щоб надати G більше контексту.\n",
    "\n",
    "    Регуляризація та шум — додавання випадковості або Dropout зменшує переадаптацію.\n",
    "\n",
    "    Прогресивне навчання — поступове збільшення розміру зображення під час тренування, щоб забезпечити стабільну\n",
    "5. У чому полягає різниця між генератором і дискримінатором?\n",
    "\n",
    "| Характеристика   | Генератор (G)                                   | Дискримінатор (D)                               |\n",
    "|-----------------|-----------------------------------------------|-----------------------------------------------|\n",
    "| **Призначення**  | Створює нові зразки даних                     | Розрізняє справжні та згенеровані дані       |\n",
    "| **Вхідні дані**  | Випадковий шум                                | Реальні та згенеровані дані                  |\n",
    "| **Вихідні дані** | Синтезовані (підроблені) зразки               | Ймовірність того, що зразок справжній        |\n",
    "| **Мета навчання** | Обманути дискримінатор, створюючи реалістичні дані | Правильно розпізнавати справжні та підроблені дані |\n",
    "| **Оптимізація**  | Прагне максимізувати помилку дискримінатора   | Мінімізує власну помилку класифікації        |\n",
    "| **Оновлення ваг** | Оновлюється так, щоб покращувати якість генерації | Оновлюється так, щоб краще розпізнавати підробки |\n"
   ]
  }
 ],
 "metadata": {
  "kernelspec": {
   "display_name": "Python 3",
   "language": "python",
   "name": "python3"
  },
  "language_info": {
   "codemirror_mode": {
    "name": "ipython",
    "version": 3
   },
   "file_extension": ".py",
   "mimetype": "text/x-python",
   "name": "python",
   "nbconvert_exporter": "python",
   "pygments_lexer": "ipython3",
   "version": "3.11.9"
  }
 },
 "nbformat": 4,
 "nbformat_minor": 2
}
